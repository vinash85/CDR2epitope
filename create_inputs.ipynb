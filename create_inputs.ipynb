{
 "cells": [
  {
   "cell_type": "markdown",
   "metadata": {},
   "source": [
    "## Description\n",
    "This script creates inputs for NMT model of cdr3b and antigen\n",
    "\n",
    "1. Parse fasta file (for both snp and indel files)\n",
    "2. Convert amino acid sequence to overlaping 9 mers\n",
    "3. save patient files "
   ]
  },
  {
   "cell_type": "code",
   "execution_count": 2,
   "metadata": {},
   "outputs": [],
   "source": [
    "library(data.table)\n",
    "file = \"~/project/code/deeplearning/antigen_recognition/data/tcga/mc3_neoantigen/test.snp.pep17.fa\"\n",
    "#     aa = fread(file, sep=\"\\t\", header=F,strip.white=FALSE, blank.lines.skip=FALSE)\n",
    "aa = readLines(file)"
   ]
  },
  {
   "cell_type": "code",
   "execution_count": 3,
   "metadata": {},
   "outputs": [
    {
     "data": {},
     "metadata": {},
     "output_type": "display_data"
    },
    {
     "data": {},
     "metadata": {},
     "output_type": "display_data"
    },
    {
     "data": {},
     "metadata": {},
     "output_type": "display_data"
    },
    {
     "data": {},
     "metadata": {},
     "output_type": "display_data"
    }
   ],
   "source": [
    "# parse.fasta = function(file){\n",
    "\n",
    "dt = data.table(info=aa[seq(1, length(aa), 8)], \n",
    "                mut.aa = aa[seq(2, length(aa), 8)], \n",
    "                wt.aa = aa[seq(4, length(aa), 8)],\n",
    "                mut.aa.pos = aa[seq(3, length(aa), 8)],\n",
    "                mut.nuc = aa[seq(5, length(aa), 8)], \n",
    "                wt.nuc = aa[seq(7, length(aa), 8)], \n",
    "                mut.nuc.pos = aa[seq(6, length(aa), 8)]\n",
    "               )\n",
    "split.info = function(tt){\n",
    "    tt =gsub('^>', '',tt)\n",
    "  strsplit(tt, split=\"\\\\|\")\n",
    "}\n",
    "info.dt = do.call(rbind,split.info(dt$info))\n",
    "colnames(info.dt) = c(\"sample\",\"ensmblid\", \"geneid\", \"info1\", \"mutation\", \"info2\")\n",
    "dt = cbind(dt, info.dt)\n",
    "dt[,mut.aa:=gsub(' ', '', mut.aa)]\n",
    "dt[,wt.aa:=gsub(' ', '', wt.aa)]\n",
    "dt[,mut.aa.pos:=(nchar(mut.aa.pos)-1)/3 + 1]\n",
    "dt[,mut.nuc.pos:=nchar(mut.nuc.pos)]\n"
   ]
  },
  {
   "cell_type": "markdown",
   "metadata": {},
   "source": [
    "### Expression filter\n",
    "\n",
    "Remove low expressed genes. There are two type of high expression: \n",
    "1. If a gene is uniformly highly expressed (> 75% of genes). \n",
    "2. If a gene highly expressed in samples *specifically* in samples with mutation (i.e. differtially expressed. ( > 75% of samples) \n",
    " * **The analysis need to be done in cancer specific manner** \n",
    "3. Remove the genes with zero expression. \n",
    "\n"
   ]
  },
  {
   "cell_type": "code",
   "execution_count": 4,
   "metadata": {},
   "outputs": [
    {
     "name": "stderr",
     "output_type": "stream",
     "text": [
      "Warning message in readChar(con, 5L, useBytes = TRUE):\n",
      "“cannot open compressed file 'pancancer.exp.mat.RData', probable reason 'No such file or directory'”"
     ]
    },
    {
     "ename": "ERROR",
     "evalue": "Error in readChar(con, 5L, useBytes = TRUE): cannot open the connection\n",
     "output_type": "error",
     "traceback": [
      "Error in readChar(con, 5L, useBytes = TRUE): cannot open the connection\nTraceback:\n",
      "1. load(\"pancancer.exp.mat.RData\")",
      "2. readChar(con, 5L, useBytes = TRUE)"
     ]
    }
   ],
   "source": [
    "\n",
    "load(\"pancancer.exp.mat.RData\")\n",
    "\n",
    "expression.filter = function(dt, overexp.thr = .75){\n",
    "selected.mutation = normalize.sample.mRNA[dt$geneid, dt$sample] > .75 | \n",
    "    normalize.gene.mRNA[dt$geneid, dt$sample] > .75\n",
    "# dt.back = dt\n",
    " dt[which(selected.mutation)]\n",
    "}\n"
   ]
  },
  {
   "cell_type": "markdown",
   "metadata": {},
   "source": [
    "### Split into 9 mers"
   ]
  },
  {
   "cell_type": "code",
   "execution_count": 5,
   "metadata": {},
   "outputs": [],
   "source": [
    "split.9mer = function(tt, sample, geneid){\n",
    "    data.table(sample = sample, geneid = geneid, kmer=sapply(seq(1,nchar(tt)-9+1), \n",
    "                                                    function(uu) substr(tt, start=uu,stop=uu+9-1))\n",
    "                                                    )\n",
    "#     sapply(seq(mut.pos-9+1,nchar(tt)-9+1), function(uu) list( start=uu,stop=uu+9-1))\n",
    "}\n",
    "\n"
   ]
  },
  {
   "cell_type": "code",
   "execution_count": 6,
   "metadata": {},
   "outputs": [],
   "source": [
    "dt.9mer = do.call(rbind, lapply(seq(nrow(dt)), function(tt) split.9mer(dt$mut.aa[tt],dt$sample[tt], dt$geneid[tt])))"
   ]
  },
  {
   "cell_type": "code",
   "execution_count": 7,
   "metadata": {},
   "outputs": [
    {
     "data": {
      "text/html": [
       "<table>\n",
       "<thead><tr><th scope=col>sample</th><th scope=col>geneid</th><th scope=col>kmer</th></tr></thead>\n",
       "<tbody>\n",
       "\t<tr><td>TCGA-02-0003-01A-01D-1490-08</td><td>TACC2                       </td><td>NIKRKQQDT                   </td></tr>\n",
       "\t<tr><td>TCGA-02-0003-01A-01D-1490-08</td><td>TACC2                       </td><td>IKRKQQDTP                   </td></tr>\n",
       "\t<tr><td>TCGA-02-0003-01A-01D-1490-08</td><td>TACC2                       </td><td>KRKQQDTPG                   </td></tr>\n",
       "\t<tr><td>TCGA-02-0003-01A-01D-1490-08</td><td>TACC2                       </td><td>RKQQDTPGS                   </td></tr>\n",
       "\t<tr><td>TCGA-02-0003-01A-01D-1490-08</td><td>TACC2                       </td><td>KQQDTPGSP                   </td></tr>\n",
       "\t<tr><td>TCGA-02-0003-01A-01D-1490-08</td><td>TACC2                       </td><td>QQDTPGSPD                   </td></tr>\n",
       "\t<tr><td>TCGA-02-0003-01A-01D-1490-08</td><td>TACC2                       </td><td>QDTPGSPDH                   </td></tr>\n",
       "\t<tr><td>TCGA-02-0003-01A-01D-1490-08</td><td>TACC2                       </td><td>DTPGSPDHR                   </td></tr>\n",
       "\t<tr><td>TCGA-02-0003-01A-01D-1490-08</td><td>TACC2                       </td><td>TPGSPDHRD                   </td></tr>\n",
       "\t<tr><td>TCGA-02-0003-01A-01D-1490-08</td><td>SPI1                        </td><td>CLQYPSLSP                   </td></tr>\n",
       "\t<tr><td>TCGA-02-0003-01A-01D-1490-08</td><td>SPI1                        </td><td>LQYPSLSPA                   </td></tr>\n",
       "\t<tr><td>TCGA-02-0003-01A-01D-1490-08</td><td>SPI1                        </td><td>QYPSLSPAQ                   </td></tr>\n",
       "\t<tr><td>TCGA-02-0003-01A-01D-1490-08</td><td>SPI1                        </td><td>YPSLSPAQP                   </td></tr>\n",
       "\t<tr><td>TCGA-02-0003-01A-01D-1490-08</td><td>SPI1                        </td><td>PSLSPAQPS                   </td></tr>\n",
       "\t<tr><td>TCGA-02-0003-01A-01D-1490-08</td><td>SPI1                        </td><td>SLSPAQPSS                   </td></tr>\n",
       "\t<tr><td>TCGA-02-0003-01A-01D-1490-08</td><td>SPI1                        </td><td>LSPAQPSSD                   </td></tr>\n",
       "\t<tr><td>TCGA-02-0003-01A-01D-1490-08</td><td>SPI1                        </td><td>SPAQPSSDE                   </td></tr>\n",
       "\t<tr><td>TCGA-02-0003-01A-01D-1490-08</td><td>SPI1                        </td><td>PAQPSSDEE                   </td></tr>\n",
       "\t<tr><td>TCGA-02-0003-01A-01D-1490-08</td><td>NAALAD2                     </td><td>AENIKSFLR                   </td></tr>\n",
       "\t<tr><td>TCGA-02-0003-01A-01D-1490-08</td><td>NAALAD2                     </td><td>ENIKSFLRS                   </td></tr>\n",
       "</tbody>\n",
       "</table>\n"
      ],
      "text/latex": [
       "\\begin{tabular}{r|lll}\n",
       " sample & geneid & kmer\\\\\n",
       "\\hline\n",
       "\t TCGA-02-0003-01A-01D-1490-08 & TACC2                        & NIKRKQQDT                   \\\\\n",
       "\t TCGA-02-0003-01A-01D-1490-08 & TACC2                        & IKRKQQDTP                   \\\\\n",
       "\t TCGA-02-0003-01A-01D-1490-08 & TACC2                        & KRKQQDTPG                   \\\\\n",
       "\t TCGA-02-0003-01A-01D-1490-08 & TACC2                        & RKQQDTPGS                   \\\\\n",
       "\t TCGA-02-0003-01A-01D-1490-08 & TACC2                        & KQQDTPGSP                   \\\\\n",
       "\t TCGA-02-0003-01A-01D-1490-08 & TACC2                        & QQDTPGSPD                   \\\\\n",
       "\t TCGA-02-0003-01A-01D-1490-08 & TACC2                        & QDTPGSPDH                   \\\\\n",
       "\t TCGA-02-0003-01A-01D-1490-08 & TACC2                        & DTPGSPDHR                   \\\\\n",
       "\t TCGA-02-0003-01A-01D-1490-08 & TACC2                        & TPGSPDHRD                   \\\\\n",
       "\t TCGA-02-0003-01A-01D-1490-08 & SPI1                         & CLQYPSLSP                   \\\\\n",
       "\t TCGA-02-0003-01A-01D-1490-08 & SPI1                         & LQYPSLSPA                   \\\\\n",
       "\t TCGA-02-0003-01A-01D-1490-08 & SPI1                         & QYPSLSPAQ                   \\\\\n",
       "\t TCGA-02-0003-01A-01D-1490-08 & SPI1                         & YPSLSPAQP                   \\\\\n",
       "\t TCGA-02-0003-01A-01D-1490-08 & SPI1                         & PSLSPAQPS                   \\\\\n",
       "\t TCGA-02-0003-01A-01D-1490-08 & SPI1                         & SLSPAQPSS                   \\\\\n",
       "\t TCGA-02-0003-01A-01D-1490-08 & SPI1                         & LSPAQPSSD                   \\\\\n",
       "\t TCGA-02-0003-01A-01D-1490-08 & SPI1                         & SPAQPSSDE                   \\\\\n",
       "\t TCGA-02-0003-01A-01D-1490-08 & SPI1                         & PAQPSSDEE                   \\\\\n",
       "\t TCGA-02-0003-01A-01D-1490-08 & NAALAD2                      & AENIKSFLR                   \\\\\n",
       "\t TCGA-02-0003-01A-01D-1490-08 & NAALAD2                      & ENIKSFLRS                   \\\\\n",
       "\\end{tabular}\n"
      ],
      "text/markdown": [
       "\n",
       "sample | geneid | kmer | \n",
       "|---|---|---|---|---|---|---|---|---|---|---|---|---|---|---|---|---|---|---|---|\n",
       "| TCGA-02-0003-01A-01D-1490-08 | TACC2                        | NIKRKQQDT                    | \n",
       "| TCGA-02-0003-01A-01D-1490-08 | TACC2                        | IKRKQQDTP                    | \n",
       "| TCGA-02-0003-01A-01D-1490-08 | TACC2                        | KRKQQDTPG                    | \n",
       "| TCGA-02-0003-01A-01D-1490-08 | TACC2                        | RKQQDTPGS                    | \n",
       "| TCGA-02-0003-01A-01D-1490-08 | TACC2                        | KQQDTPGSP                    | \n",
       "| TCGA-02-0003-01A-01D-1490-08 | TACC2                        | QQDTPGSPD                    | \n",
       "| TCGA-02-0003-01A-01D-1490-08 | TACC2                        | QDTPGSPDH                    | \n",
       "| TCGA-02-0003-01A-01D-1490-08 | TACC2                        | DTPGSPDHR                    | \n",
       "| TCGA-02-0003-01A-01D-1490-08 | TACC2                        | TPGSPDHRD                    | \n",
       "| TCGA-02-0003-01A-01D-1490-08 | SPI1                         | CLQYPSLSP                    | \n",
       "| TCGA-02-0003-01A-01D-1490-08 | SPI1                         | LQYPSLSPA                    | \n",
       "| TCGA-02-0003-01A-01D-1490-08 | SPI1                         | QYPSLSPAQ                    | \n",
       "| TCGA-02-0003-01A-01D-1490-08 | SPI1                         | YPSLSPAQP                    | \n",
       "| TCGA-02-0003-01A-01D-1490-08 | SPI1                         | PSLSPAQPS                    | \n",
       "| TCGA-02-0003-01A-01D-1490-08 | SPI1                         | SLSPAQPSS                    | \n",
       "| TCGA-02-0003-01A-01D-1490-08 | SPI1                         | LSPAQPSSD                    | \n",
       "| TCGA-02-0003-01A-01D-1490-08 | SPI1                         | SPAQPSSDE                    | \n",
       "| TCGA-02-0003-01A-01D-1490-08 | SPI1                         | PAQPSSDEE                    | \n",
       "| TCGA-02-0003-01A-01D-1490-08 | NAALAD2                      | AENIKSFLR                    | \n",
       "| TCGA-02-0003-01A-01D-1490-08 | NAALAD2                      | ENIKSFLRS                    | \n",
       "\n",
       "\n"
      ],
      "text/plain": [
       "   sample                       geneid  kmer     \n",
       "1  TCGA-02-0003-01A-01D-1490-08 TACC2   NIKRKQQDT\n",
       "2  TCGA-02-0003-01A-01D-1490-08 TACC2   IKRKQQDTP\n",
       "3  TCGA-02-0003-01A-01D-1490-08 TACC2   KRKQQDTPG\n",
       "4  TCGA-02-0003-01A-01D-1490-08 TACC2   RKQQDTPGS\n",
       "5  TCGA-02-0003-01A-01D-1490-08 TACC2   KQQDTPGSP\n",
       "6  TCGA-02-0003-01A-01D-1490-08 TACC2   QQDTPGSPD\n",
       "7  TCGA-02-0003-01A-01D-1490-08 TACC2   QDTPGSPDH\n",
       "8  TCGA-02-0003-01A-01D-1490-08 TACC2   DTPGSPDHR\n",
       "9  TCGA-02-0003-01A-01D-1490-08 TACC2   TPGSPDHRD\n",
       "10 TCGA-02-0003-01A-01D-1490-08 SPI1    CLQYPSLSP\n",
       "11 TCGA-02-0003-01A-01D-1490-08 SPI1    LQYPSLSPA\n",
       "12 TCGA-02-0003-01A-01D-1490-08 SPI1    QYPSLSPAQ\n",
       "13 TCGA-02-0003-01A-01D-1490-08 SPI1    YPSLSPAQP\n",
       "14 TCGA-02-0003-01A-01D-1490-08 SPI1    PSLSPAQPS\n",
       "15 TCGA-02-0003-01A-01D-1490-08 SPI1    SLSPAQPSS\n",
       "16 TCGA-02-0003-01A-01D-1490-08 SPI1    LSPAQPSSD\n",
       "17 TCGA-02-0003-01A-01D-1490-08 SPI1    SPAQPSSDE\n",
       "18 TCGA-02-0003-01A-01D-1490-08 SPI1    PAQPSSDEE\n",
       "19 TCGA-02-0003-01A-01D-1490-08 NAALAD2 AENIKSFLR\n",
       "20 TCGA-02-0003-01A-01D-1490-08 NAALAD2 ENIKSFLRS"
      ]
     },
     "metadata": {},
     "output_type": "display_data"
    }
   ],
   "source": [
    "head(dt.9mer,20)"
   ]
  },
  {
   "cell_type": "markdown",
   "metadata": {},
   "source": [
    "## Combine function "
   ]
  },
  {
   "cell_type": "code",
   "execution_count": 9,
   "metadata": {},
   "outputs": [
    {
     "ename": "ERROR",
     "evalue": "Error in is.data.frame(x): object 'normalize.sample.mRNA' not found\n",
     "output_type": "error",
     "traceback": [
      "Error in is.data.frame(x): object 'normalize.sample.mRNA' not found\nTraceback:\n",
      "1. substr(colnames(normalize.sample.mRNA), 9, 12)",
      "2. colnames(normalize.sample.mRNA)",
      "3. is.data.frame(x)"
     ]
    }
   ],
   "source": [
    "load(\"normalize.mRNA.RData\")\n",
    "samp.id = substr(colnames(normalize.sample.mRNA), 9, 12)\n",
    "colnames(normalize.sample.mRNA) = samp.id\n",
    "colnames(normalize.gene.mRNA) = samp.id"
   ]
  },
  {
   "cell_type": "markdown",
   "metadata": {},
   "source": [
    "### Select samples that have TCR "
   ]
  },
  {
   "cell_type": "code",
   "execution_count": null,
   "metadata": {},
   "outputs": [],
   "source": [
    "load(\"tcga_extended_tcr.V3.RData\")\n",
    "tcga_extended_tcr_sel = tcga_extended_tcr[status==\"complete\" & type==\"TRB\"]\n",
    "# tcr.samples = unique(tcga_extended_tcr_sel$sample)\n",
    "tcga_extended_tcr_sel[,sample.id:=substr(sample, 9 ,12)]\n",
    "tcr.sample.id = unique(tcga_extended_tcr_sel$sample.id)\n",
    "common.patients = intersect(colnames(normalize.gene.mRNA), tcr.samples.id)\n",
    "normalize.gene.mRNA = normalize.gene.mRNA[,common.patients]\n",
    "normalize.sample.mRNA = normalize.sample.mRNA[,common.patients]"
   ]
  },
  {
   "cell_type": "code",
   "execution_count": 8,
   "metadata": {},
   "outputs": [],
   "source": [
    "expression.filter = function(dt, overexp.thr = .75){\n",
    "    dt[,sample:=substr(sample, 9,12)]\n",
    "    numGenes = nrow(normalize.sample.mRNA)\n",
    "    \n",
    "    dt = dt[(geneid %in% rownames(normalize.sample.mRNA)) & (dt$sample %in% colnames(normalize.sample.mRNA)) ]\n",
    "#     dt = dt[sel]\n",
    "    midx =  cbind(dt$geneid, dt$sample)\n",
    "    selected.mutation = normalize.sample.mRNA[midx] > .75 | \n",
    "        normalize.gene.mRNA[midx] > .75\n",
    "    # dt.back = dt\n",
    "     dt[which(selected.mutation)]\n",
    "}\n",
    "\n",
    "split.9mer = function(tt, sample, geneid){\n",
    "    data.table(sample = sample, geneid = geneid, kmer=sapply(seq(1,nchar(tt)-9+1), \n",
    "                                                    function(uu) substr(tt, start=uu,stop=uu+9-1))\n",
    "                                                    )\n",
    "}\n",
    "\n",
    "\n",
    "split2kmers = function(file, overexp.thr = .75, apply.expression.filter =T){\n",
    "\n",
    "    aa = readLines(file)\n",
    "    dt = data.table(info=aa[seq(1, length(aa), 8)], \n",
    "                    mut.aa = aa[seq(2, length(aa), 8)], \n",
    "                    wt.aa = aa[seq(4, length(aa), 8)],\n",
    "                    mut.aa.pos = aa[seq(3, length(aa), 8)],\n",
    "                    mut.nuc = aa[seq(5, length(aa), 8)], \n",
    "                    wt.nuc = aa[seq(7, length(aa), 8)], \n",
    "                    mut.nuc.pos = aa[seq(6, length(aa), 8)]\n",
    "                   )\n",
    "    split.info = function(tt){\n",
    "        tt =gsub('^>', '',tt)\n",
    "      strsplit(tt, split=\"\\\\|\")\n",
    "    }\n",
    "    info.dt = do.call(rbind,split.info(dt$info))\n",
    "    colnames(info.dt) = c(\"sample\",\"ensmblid\", \"geneid\", \"info1\", \"mutation\", \"info2\")\n",
    "    dt = cbind(dt, info.dt)\n",
    "    dt[,mut.aa:=gsub(' ', '', mut.aa)]\n",
    "    dt[,wt.aa:=gsub(' ', '', wt.aa)]\n",
    "    dt[,mut.aa.pos:=(nchar(mut.aa.pos)-1)/3 + 1]\n",
    "    dt[,mut.nuc.pos:=nchar(mut.nuc.pos)]\n",
    "    \n",
    "    if(apply.expression.filter)\n",
    "        dt = expression.filter(dt, overexp.thr=overexp.thr)\n",
    "    \n",
    "    out = NULL \n",
    "    \n",
    "    if(nrow(dt) > 0)\n",
    "        out = do.call(rbind, lapply(seq(nrow(dt)),\n",
    "                                    function(tt) split.9mer(dt$mut.aa[tt],dt$sample[tt], dt$geneid[tt])))\n",
    "    out\n",
    "    \n",
    "}"
   ]
  },
  {
   "cell_type": "code",
   "execution_count": null,
   "metadata": {},
   "outputs": [],
   "source": [
    "snp.files = list.files(path=\"~/data/neoantigen/run/cromwell-executions/Neoantigen/a10dcf08-3b8a-48f3-970f-87ba2d0558e5/call-get_peptides\", \n",
    "                          pattern = \"test.snp.pep17.fa\", recursive = TRUE,  full.names = TRUE)"
   ]
  },
  {
   "cell_type": "code",
   "execution_count": null,
   "metadata": {},
   "outputs": [],
   "source": [
    "library(parallel)\n",
    "# file = snp.files[1]\n",
    "# out = split2kmers(file)\n",
    "out.all = mclapply(snp.files, split2kmers,mc.cores=32)\n",
    "all.9mers = do.call(rbind, out.all)\n",
    "save(file=\"all.9mer.experssion.filter.RData\", all.9mers)\n"
   ]
  },
  {
   "cell_type": "markdown",
   "metadata": {},
   "source": [
    "### Create kmer sentence files"
   ]
  },
  {
   "cell_type": "code",
   "execution_count": null,
   "metadata": {},
   "outputs": [],
   "source": [
    "my.get.kmers <- function (.data, .head = -1, .k = 5, .clean = T, .verbose = F, .collapse =F, .left.shift = 0, .right.shift = 0) {  \n",
    "  if (class(.data) == 'list') {\n",
    "    ngrams <- lapply(.data, get.kmers, .head = .head, .k = .k, .clean = .clean, .collapse = .collapse, .left.shift = .left.shift, .right.shift = .right.shift, .verbose = .verbose)\n",
    "    return(ngrams)\n",
    "  }\n",
    "  \n",
    "  .n <- .k  \n",
    "  \n",
    "  if (.head == -1) {\n",
    "    .head <- dim(.data)[1]\n",
    "    if (is.null(.head)) { .head <- length(.data) }\n",
    "  }\n",
    "  \n",
    "  .data <- head(.data, .head)\n",
    "  \n",
    "  read.count <- rep.int(1, .head)\n",
    "  if (class(.data) == 'data.frame') { .data <- .data$CDR3.amino.acid.sequence }\n",
    "  if (.clean) {\n",
    "    if (.verbose) cat('Cleaning bad sequences...\\t')\n",
    "    .data <- .data[grep('[*, ~]', .data, invert = T)]\n",
    "    if (.verbose) cat('Sequences after cleaning:', length(.data),'\\n')\n",
    "  }\n",
    "  \n",
    "  if (.verbose) cat('Calculating space...\\n')\n",
    "  .data <- substr(.data, 1 + .left.shift, nchar(.data) - .right.shift)\n",
    "  non.nchar <- nchar(.data) >= .n\n",
    "  .data <- .data[non.nchar]\n",
    "  read.count <- read.count[non.nchar]\n",
    "  space <- sum(nchar(.data) -.n + 1)\n",
    "  if (.verbose) cat('Number of k-mers:', space,'\\n')\n",
    "  if (space > 0) {\n",
    "    if (.verbose) {\n",
    "      cat('Generating k-mers...\\n')\n",
    "    }\n",
    "    j <- 1\n",
    "    ngrams = list()\n",
    "    for (i in 1:length(.data)) {\n",
    "       \n",
    "        temp <- sapply(1:(nchar(.data[i]) - .n + 1), function(j) substr(.data[i], j, j + .n - 1), USE.NAMES=F)\n",
    "        if(.collapse) temp = paste0(temp, collapse = \" \")\n",
    "        ngrams[[i]] = temp \n",
    "      }\n",
    "    ngrams = unlist(ngrams)\n",
    "                            \n",
    "                       \n",
    "    ngrams\n",
    "  } else {\n",
    "    return(NA)\n",
    "  }\n",
    "}\n"
   ]
  },
  {
   "cell_type": "code",
   "execution_count": null,
   "metadata": {},
   "outputs": [],
   "source": [
    "kmer.len = 5\n",
    "start.pad = paste(rep(\"^\", kmer.len -1 ), collapse = \"\")\n",
    "end.pad = paste(rep(\"$\", kmer.len -1 ), collapse = \"\")\n",
    "all.9mers[,kmer.padded:=paste0(start.pad, kmer, end.pad)]\n",
    "# all.9mers$kmer.sentence=unlist(mclapply(all.9mers$kmer.padded, my.get.kmers, .k=5, .collapse=T,  mc.cores =32))\n",
    "aa = mclapply(seq(13), function(tt) all.9mers[,substr(kmer.padded, tt,tt+4)], mc.cores=32)\n",
    "command = paste0(paste0(\"aa[[\",1:13,\"]]\"), collapse=\",\")\n",
    "command1 = paste0(\"paste(\",command,\",sep=\\\" \\\")\")\n",
    "#               command1 = paste0(\"paste(\",command,\",sep=\\\" \\\")\")\n",
    "bb = eval(parse(text=command1))\n",
    "all.9mers$kmer.sentence=bb  \n",
    "all.9mers = all.9mers[order(sample)]\n",
    "all.9mers$patient = factor(all.9mers$sample)\n",
    "levels(all.9mers$patient)=seq(length(unique(all.9mers$sample)))\n",
    "write.table(file=\"all.9mers.txt\",x = all.9mers , row.names = F,col.names =T,  sep=\"\\t\", quote=F )\n"
   ]
  },
  {
   "cell_type": "markdown",
   "metadata": {},
   "source": [
    "### TCR kmers\n"
   ]
  },
  {
   "cell_type": "code",
   "execution_count": 1,
   "metadata": {},
   "outputs": [
    {
     "ename": "ERROR",
     "evalue": "Error in mclapply(tcga_extended_tcr_sel$kmer.padded, split2kmer, kmer.len = 5, : could not find function \"mclapply\"\n",
     "output_type": "error",
     "traceback": [
      "Error in mclapply(tcga_extended_tcr_sel$kmer.padded, split2kmer, kmer.len = 5, : could not find function \"mclapply\"\nTraceback:\n"
     ]
    }
   ],
   "source": [
    "split2kmer = function(word, kmer.len){\n",
    "    aa = lapply(seq(1, nchar(word) - kmer.len + 1), function(tt) substr(word, tt, tt+kmer.len-1))\n",
    "    paste(unlist(aa), collapse=\" \")\n",
    "}\n",
    "kmer.len = 5\n",
    "start.pad = paste(rep(\"^\", kmer.len -1 ), collapse = \"\")\n",
    "end.pad = paste(rep(\"$\", kmer.len -1 ), collapse = \"\")\n",
    "tcga_extended_tcr_sel[,kmer.padded:=paste0(start.pad, cdr3aa, end.pad)]\n",
    "tcga_extended_tcr_sel$kmer.sentence = mclapply(tcga_extended_tcr_sel$kmer.padded, split2kmer, kmer.len=5, mc.cores =32) \n",
    "tcga_extended_tcr_sel$kmer.sentence = unlist(tcga_extended_tcr_sel$kmer.sentence)\n",
    "\n",
    "tcga_extended_tcr_final = tcga_extended_tcr_sel[sample.id %in% all.9mers$sample]\n",
    "tcga_extended_tcr_final =tcga_extended_tcr_final[order(sample.id)]\n",
    "tcga_extended_tcr_final$patient = factor(tcga_extended_tcr_final$sample.id)\n",
    "levels(tcga_extended_tcr_final$patient)=seq(length(unique(tcga_extended_tcr_final$sample.id)))\n",
    "write.table(file=\"tcga_extended_tcr_final.txt\",x = tcga_extended_tcr_final, row.names = F,col.names =T,  sep=\"\\t\", quote=F )    \n",
    "                            "
   ]
  },
  {
   "cell_type": "markdown",
   "metadata": {},
   "source": [
    "### 200 patients for small training "
   ]
  },
  {
   "cell_type": "code",
   "execution_count": null,
   "metadata": {},
   "outputs": [],
   "source": [
    "tcga_extended_tcr_final = fread(\"tcga_extended_tcr_final.txt\")\n",
    "all.9mers = fread(\"all.9mers.txt\")\n",
    "\n",
    "sel.patients = sample(unique(all.9mers$patient), size=200)\n",
    "\n",
    "tcga_extended_tcr_final.sel = tcga_extended_tcr_final[patient %in% sel.patients]\n",
    "write.table(file=\"tcga_extended_tcr_final_200.txt\",x = tcga_extended_tcr_final.sel, row.names = F,col.names =T,  sep=\"\\t\", quote=F )    \n",
    "\n",
    "all.9mers.sel = all.9mers[patient %in% sel.patients]\n",
    "\n",
    "write.table(file=\"all.9mers_200.txt\",x = all.9mers.sel, row.names = F,col.names =T,  sep=\"\\t\", quote=F )    \n",
    "                            \n"
   ]
  }
 ],
 "metadata": {
  "kernelspec": {
   "display_name": "R",
   "language": "R",
   "name": "ir"
  },
  "language_info": {
   "codemirror_mode": "r",
   "file_extension": ".r",
   "mimetype": "text/x-r-source",
   "name": "R",
   "pygments_lexer": "r",
   "version": "3.5.1"
  }
 },
 "nbformat": 4,
 "nbformat_minor": 2
}
