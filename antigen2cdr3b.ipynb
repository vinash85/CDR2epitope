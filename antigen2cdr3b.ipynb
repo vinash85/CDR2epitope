{
 "cells": [
  {
   "cell_type": "markdown",
   "metadata": {},
   "source": [
    "## Todos \n",
    "1. Correct CDR3 kmerization. "
   ]
  },
  {
   "cell_type": "markdown",
   "metadata": {},
   "source": [
    "## Requirements"
   ]
  },
  {
   "cell_type": "code",
   "execution_count": 104,
   "metadata": {},
   "outputs": [],
   "source": [
    "from __future__ import unicode_literals, print_function, division\n",
    "from io import open\n",
    "import unicodedata\n",
    "import string\n",
    "import re\n",
    "import random\n",
    "import pandas as pd\n",
    "import r2python\n",
    "\n",
    "import torch\n",
    "import torch.nn as nn\n",
    "from torch import optim\n",
    "import torch.nn.functional as F\n",
    "device = torch.device(\"cuda\" if torch.cuda.is_available() else \"cpu\")\n"
   ]
  },
  {
   "cell_type": "code",
   "execution_count": 105,
   "metadata": {},
   "outputs": [],
   "source": [
    "NULL_token = 0\n",
    "SOS_token = 1\n",
    "EOS_token = 2\n",
    "\n",
    "\n",
    "class Lang:\n",
    "    def __init__(self, name):\n",
    "        self.name = name\n",
    "        self.word2index = {}\n",
    "        self.word2count = {}\n",
    "        self.index2word = {0: 'NULL', 1: 'SOS', 2: 'EOS'}\n",
    "        self.n_words = 2\n",
    "        \n",
    "    def addSentence(self, sentence):\n",
    "        for word in sentence.split(' '):\n",
    "            self.addWord(word)\n",
    "    \n",
    "    def addWord(self, word):\n",
    "        if word not in self.word2index:\n",
    "            self.word2index[word] = self.n_words\n",
    "            self.word2count[word] = 1\n",
    "            self.index2word[self.n_words] = word\n",
    "            self.n_words +=1\n",
    "        else:\n",
    "            self.word2count[word] += 1"
   ]
  },
  {
   "cell_type": "code",
   "execution_count": 106,
   "metadata": {},
   "outputs": [],
   "source": [
    "# Turn a Unicode string to plain ASCII, thanks to\n",
    "# http://stackoverflow.com/a/518232/2809427\n",
    "def unicodeToAscii(s):\n",
    "    return ''.join(\n",
    "        c for c in unicodedata.normalize('NFD', s)\n",
    "        if unicodedata.category(c) != 'Mn'\n",
    "    )\n",
    "\n",
    "# Lowercase, trim, and remove non-letter characters\n",
    "\n",
    "\n",
    "def normalizeString(s):\n",
    "    s = unicodeToAscii(s.lower().strip())\n",
    "    s = re.sub(r\"([.!?])\", r\" \\1\", s)\n",
    "    s = re.sub(r\"[^a-zA-Z.!?]+\", r\" \", s)\n",
    "    return s"
   ]
  },
  {
   "cell_type": "code",
   "execution_count": 107,
   "metadata": {},
   "outputs": [],
   "source": [
    "def readLangs(lang1, lang2, reverse=False):\n",
    "    print(\"Reading lines ...\")\n",
    "    \n",
    "    # Read the file and split into lines\n",
    "    lines = open('data/%s-%s.txt' %(lang1, lang2), encoding='utf-8').\\\n",
    "        read().strip().split('\\n')\n",
    "    \n",
    "    # Split every line into pairs and normalize\n",
    "    pairs = [[normalizeString(s) for s in l.split('\\t')] for l in lines]\n",
    "    \n",
    "    # Reverse pairs, make Lang instances\n",
    "    if reverse:\n",
    "        pairs = [list(reversed(p)) for p in pairs]\n",
    "        input_lang = Lang(lang2)\n",
    "        output_lang = Lang(lang1)\n",
    "    else:\n",
    "        input_lang = Lang(lang1)\n",
    "        output_lang = Lang(lang2)\n",
    "        \n",
    "    return input_lang, output_lang, pairs\n",
    "    \n",
    "    "
   ]
  },
  {
   "cell_type": "code",
   "execution_count": 108,
   "metadata": {},
   "outputs": [],
   "source": [
    "def indexesFromSentence(lang, sentence):\n",
    "    indexes = [lang.word2index[word] for word in sentence.split(' ')]\n",
    "    indexes.append(EOS_token)\n",
    "    return indexes\n",
    "\n",
    "def tensorFromSentence(lang, sentence):\n",
    "    indexes = indexesFromSentence(lang, sentence) \n",
    "    return torch.tensor(indexes, dtype=torch.long, device=device).view(-1, 1)\n",
    "\n",
    "# ## check if the view is accurate \n",
    "# def tensorFromSentences(lang, sentences):\n",
    "#     indexes_mat = [indexesFromSentence(lang, sentence) for sentence in sentences]\n",
    "#     return torch.tensor(indexes_mat, dtype=torch.long, device=device).view(-1, 1)\n",
    "\n",
    "def tensorsFromPair(pair):\n",
    "    input_tensor = tensorFromSentence(input_lang, pair[0])\n",
    "    target_tensor_mat = tensorFromSentences(output_lang, pair[1])\n",
    "    prior_z_np = np.ones(length(target_tensor_mat))/length(target_tensor_mat)\n",
    "    prior_z =  torch.tensor(prior_z_np, dtype=torch.long, device=device)\n",
    "    return (input_tensor, target_tensor, prior_z)\n",
    "# len(pairs[0])\n",
    "# random.choice(pairs)\n"
   ]
  },
  {
   "cell_type": "code",
   "execution_count": 152,
   "metadata": {},
   "outputs": [],
   "source": [
    "def readInput_cdr3b(lang, langfile):\n",
    "    print(\"Reading %s ...\" %(lang))\n",
    "    \n",
    "    # Read the file and split into lines\n",
    "    df = pd.read_csv(langfile, \"\\t\")\n",
    "\n",
    "    df = df[['kmer.sentence', 'patient']]\n",
    "    input_lang = Lang(lang)\n",
    "    \n",
    "    print(\"Counting words...\")\n",
    "    for kmerS in df['kmer.sentence']:\n",
    "        input_lang.addSentence(kmerS)\n",
    "        \n",
    "    df['kmer.tensor'] = df['kmer.sentence'].apply(lambda x: tensorFromSentence(input_lang, x))\n",
    "    \n",
    "    return input_lang, df\n",
    "\n",
    "def readInput_epitope(lang, langfile, nfold=None):\n",
    "    \"\"\"The module reads CDR3 and Epitopes of and create lists for each tcga patients\n",
    "    output are\n",
    "    cdr3s_list: list of cdr3 per common patient,\n",
    "    neoantigens_list: list of Epitope per common patient,\n",
    "    negative_patients: For each patient list of other patients that does not share any neoantigen with the patient\n",
    "\n",
    "    approx schematic of the function\n",
    "\n",
    "\n",
    "    # read files\n",
    "    # find common paitents\n",
    "    # convert to tensor\n",
    "    # create list\n",
    "    \"\"\"\n",
    "    def create_neoantigen_list_from_patient_list(patients_lists, nfold=None):\n",
    "        \"\"\"\n",
    "        Ouput neoantigen for patients list\n",
    "        \"\"\"\n",
    "        \n",
    "        df_common = df[df['patient'].isin(patients_lists)]\n",
    "        neoantigens_list = []\n",
    "        for patient_inx, patient in zip(range(len(patients_lists)), patients_lists):\n",
    "            neoantigen_curr = df_common[df_common['patient'] == patient]['kmer.tensor']\n",
    "            neoantigens_list.append(neoantigen_curr)\n",
    "\n",
    "        neoantigens_list = [neoantigen.values.tolist() for neoantigen in neoantigens_list]\n",
    "        return neoantigens_list\n",
    "    \n",
    "    df = pd.read_csv(langfile, \"\\t\")\n",
    "    \n",
    "    input_lang = Lang(lang)\n",
    "    print(\"Counting words...\")\n",
    "    for kmerS in df['kmer.sentence']:\n",
    "        input_lang.addSentence(kmerS)\n",
    "        \n",
    "    df['kmer.tensor'] = df['kmer.sentence'].apply(lambda x: tensorFromSentence(input_lang, x))\n",
    "    common_patients = r2python.unique(df['patient'])\n",
    "    if nfold is None:\n",
    "        train_patients_list = common_patients\n",
    "        trainData = create_neoantigen_list_from_patient_list(train_patients_list)\n",
    "        testData = None\n",
    "    else:\n",
    "        ### this is not working\n",
    "        train_patients_list = r2python.sample(common_patients, size=int((nfold - 1) * len(common_patients) / nfold))\n",
    "        test_patients_list = r2python.setdiff(common_patients, train_patients_list)\n",
    "        trainData = create_neoantigen_list_from_patient_list(train_patients_list)\n",
    "        testData = create_neoantigen_list_from_patient_list(test_patients_list)\n",
    "\n",
    "    dataset = {\n",
    "        \"trainData\": trainData,\n",
    "        \"testData\": testData\n",
    "    }\n",
    "    return input_lang, dataset, df"
   ]
  },
  {
   "cell_type": "code",
   "execution_count": 111,
   "metadata": {},
   "outputs": [],
   "source": [
    "MAX_LENGTH = 30\n"
   ]
  },
  {
   "cell_type": "code",
   "execution_count": 154,
   "metadata": {},
   "outputs": [
    {
     "name": "stdout",
     "output_type": "stream",
     "text": [
      "Reading cdr3b ...\n",
      "Counting words...\n",
      "Read 999 cdr3bs \n",
      "Counting words...\n",
      "Read 2 epitope \n",
      "Counted words:\n",
      "cdr3b 3062\n",
      "eptiope 5168\n"
     ]
    }
   ],
   "source": [
    "# def format2tensorList(List):\n",
    "#     # assumes that indices are in sorted order\n",
    "#     tensorList = []\n",
    "#     total_indices = int(List[len(List)-1][1])\n",
    "#     initial_index = 1\n",
    "#     for inx in range(total_indices):\n",
    "#         tensorList_set = []\n",
    "#         curr\n",
    "        \n",
    "def prepareData(cdr3b, cdr3bfile, epitope, epitopefile):\n",
    "    cdr3b_lang,  df_cdr3 = readInput_cdr3b(cdr3b, cdr3bfile)\n",
    "    print(\"Read %s cdr3bs \" % len(df_cdr3.index))\n",
    "\n",
    "\n",
    "    epitope_lang,  epitope_patient_list, df_epitope = readInput_epitope(epitope, epitopefile)\n",
    "    print(\"Read %s epitope \" % len(epitope_patient_list))\n",
    "    \n",
    "    \n",
    "    # epitope NULL sentence\n",
    "    epitope_lang.addSentence('NULL')\n",
    "    epitopee_null = tensorFromSentence(epitope_lang, 'NULL')\n",
    "\n",
    "    \n",
    "        \n",
    "#     for pair in epitope_n_index:\n",
    "#         epitope_lang.addSentence(pair[0])  \n",
    "        \n",
    "#     epitope_matList = format2ListofList(epitope_lang, epitope_n_index)\n",
    "#         epitope_mat_lens.addLens(pair[1])\n",
    "    \n",
    "#     convert epitope to list of matrices for fast indexing \n",
    "  \n",
    "    print(\"Counted words:\")\n",
    "    print(cdr3b_lang.name, cdr3b_lang.n_words)\n",
    "    print(epitope_lang.name, epitope_lang.n_words)\n",
    "    return cdr3b_lang, epitope_lang, df_cdr3, epitope_patient_list, epitopee_null, df_epitope\n",
    "\n",
    "cdr3b_lang, epitope_lang, df_cdr3, epitope_patient_list, epitope_null, df_epitope = prepareData('cdr3b', 'data/tcga_epitope_V2.2000.txt','eptiope', 'data/all.9mers_200.txt')\n",
    "# print(random.choice(pairs))"
   ]
  },
  {
   "cell_type": "code",
   "execution_count": 114,
   "metadata": {},
   "outputs": [],
   "source": [
    "# print([random.choice(pairs) for i in range(10)])\n",
    "# pairs[1:10]"
   ]
  },
  {
   "cell_type": "markdown",
   "metadata": {},
   "source": [
    "## Encoder"
   ]
  },
  {
   "cell_type": "code",
   "execution_count": 115,
   "metadata": {},
   "outputs": [],
   "source": [
    "class EncoderRNN(nn.Module):\n",
    "    def __init__(self, input_size, hidden_size):\n",
    "        super(EncoderRNN, self).__init__()\n",
    "        self.hidden_size = hidden_size\n",
    "        \n",
    "        self.embedding = nn.Embedding(input_size, hidden_size)\n",
    "        self.gru = nn.GRU(hidden_size, hidden_size)\n",
    "        \n",
    "    def forward(self, input, hidden):\n",
    "        embedded = self.embedding(input).view(1,1,-1)\n",
    "        output = embedded\n",
    "        output, hidden = self.gru(output, hidden)\n",
    "        return output, hidden\n",
    "        \n",
    "    def initHidden(self):\n",
    "        return torch.zeros(1,1, self.hidden_size, device=device)\n",
    "    "
   ]
  },
  {
   "cell_type": "markdown",
   "metadata": {},
   "source": [
    "## Decoder"
   ]
  },
  {
   "cell_type": "code",
   "execution_count": 116,
   "metadata": {},
   "outputs": [],
   "source": [
    "class DecoderRNN(nn.Module):\n",
    "    def __init__(self,  hidden_size, output_size):\n",
    "        super(DecoderRNN, self).__init__()\n",
    "        self.hidden_size = hidden_size\n",
    "        \n",
    "        self.embedding = nn.Embedding(output_size, hidden_size)\n",
    "        self.gru = nn.GRU(hidden_size, hidden_size)\n",
    "        self.out = nn.Linear(hidden_size, output_size)\n",
    "        self.softmax = nn.Softmax(dim=1)\n",
    "        \n",
    "    def forward(self, input, hidden):\n",
    "        output = self.embedding(input).view(1,1,-1)\n",
    "        output = F.relu(output)\n",
    "        output, hidden = self.gru(output, hidden)\n",
    "        output = self.softmax(output)\n",
    "        return output, hidden\n",
    "    \n",
    "    def initHidden(self):\n",
    "        return torch.zeros(1, 1, self.hidden_size, device=device)"
   ]
  },
  {
   "cell_type": "markdown",
   "metadata": {},
   "source": [
    "## Attention Decoder"
   ]
  },
  {
   "cell_type": "code",
   "execution_count": 117,
   "metadata": {},
   "outputs": [],
   "source": [
    "class AttnDecoderRNN(nn.Module):\n",
    "    def __init__(self,  hidden_size, output_size, dropout_p =0.1, max_length = MAX_LENGTH):\n",
    "        super(AttnDecoderRNN, self).__init__()\n",
    "        self.hidden_size = hidden_size\n",
    "        self.output_size = output_size\n",
    "        self.dropout_p = dropout_p\n",
    "        self.max_length = max_length\n",
    "        \n",
    "        self.embedding = nn.Embedding(self.output_size, self.hidden_size)\n",
    "        self.attn = nn.Linear(self.hidden_size * 2, self.max_length)\n",
    "        self.attn_combine = nn.Linear(self.hidden_size * 2, self.hidden_size)\n",
    "        self.dropout = nn.Dropout(self.dropout_p)\n",
    "        self.gru = nn.GRU(hidden_size, hidden_size)\n",
    "        self.out = nn.Linear(hidden_size, output_size)\n",
    "#         self.softmax = nn.Softmax(dim=1)\n",
    "        \n",
    "    def forward(self, input, hidden, encoder_outputs):\n",
    "        embedded = self.embedding(input).view(1, 1, -1)\n",
    "        embedded = self.dropout(embedded)\n",
    "        \n",
    "#         attn_weights = self.attn(torch.cat((embedded[0], hidden[0]), 1))\n",
    "#         attn_weights = F.softmax(attn_weights, dim=1)\n",
    "        attn_weights = F.softmax(\n",
    "            self.attn(torch.cat((embedded[0], hidden[0]), 1)), dim=1)\n",
    "        attn_applied = torch.bmm(attn_weights.unsqueeze(0),\n",
    "                                encoder_outputs.unsqueeze(0))\n",
    "        \n",
    "        output = torch.cat((embedded[0], attn_applied[0]), 1)\n",
    "        output = self.attn_combine(output).unsqueeze(0)\n",
    "        \n",
    "        output= F.relu(output)\n",
    "        output, hidden = self.gru(output, hidden)\n",
    "        \n",
    "        output = F.log_softmax(self.out(output[0]), dim=1)\n",
    "        return output, hidden, attn_weights\n",
    "    \n",
    "    def initHidden(self):\n",
    "        return torch.zeros(1, 1, self.hidden_size, device=device)"
   ]
  },
  {
   "cell_type": "markdown",
   "metadata": {},
   "source": [
    "## Training "
   ]
  },
  {
   "cell_type": "markdown",
   "metadata": {},
   "source": [
    "## Training the model\n",
    "In this model, we are generating Epitope (X) from the CDR3b (Y). This weird convention is for traditional reason. \n",
    "So the input is CDR3B and output are Antigens. \n",
    "\n",
    "\\begin{align}\n",
    "log P(X/Y) &= \\sum_{x} log P(x/Y) \\\\ \n",
    "            &= \\sum_{x} log \\sum_z P(x,z/Y) \\\\ \n",
    "            &= \\sum_{x} log \\sum_z P(z/Y) P(x/z,Y) \\\\\n",
    "            &= \\sum_{x} log \\mathbf{E}_z  P(x/z,Y) \n",
    "\\end{align}\n",
    "\n",
    "\n",
    "### TODO : Add prior proportial to expression, mhc1 presentation, clonality of mutation \n",
    "### TODO : Add prior proportial to its clonality of CDR3  "
   ]
  },
  {
   "cell_type": "code",
   "execution_count": 118,
   "metadata": {},
   "outputs": [],
   "source": [
    "teacher_forcing_ratio = 0.5\n",
    "\n",
    "\n",
    "def train_set(input_tensor_list, target_tensor, input_null, prior_z, encoder, decoder, encoder_optimizer,\n",
    "              decoder_optimizer, criterion, max_length=MAX_LENGTH):\n",
    "    ''' The function inputs cdr3bs and antigens of a set (patient) and for probability of each cdr3b generated by\n",
    "    each antigens. And  also calculate the loss'''\n",
    "    encoder_hidden = encoder.initHidden()\n",
    "\n",
    "    loss = 0\n",
    "\n",
    "    encoder_optimizer.zero_grad()\n",
    "    decoder_optimizer.zero_grad()\n",
    "#     print(len(input_tensor_list))\n",
    "\n",
    "    inputs_num = len(input_tensor_list)\n",
    "    for input_inx in range(inputs_num + 1):\n",
    "#         print(len(input_tensor_list))\n",
    "#         print(\"inx:\")\n",
    "#         print(input_inx)\n",
    "        if input_inx > 0:\n",
    "            prior_z_curr = prior_z[1]\n",
    "            input_tensor = input_tensor_list[input_inx-1]\n",
    "        else:\n",
    "            prior_z_curr = prior_z[0]\n",
    "            input_tensor = input_null\n",
    "\n",
    "        input_length = input_tensor.size(0)\n",
    "        target_length = target_tensor.size(0)\n",
    "    #     print(target_length)\n",
    "        encoder_outputs = torch.zeros(max_length, encoder.hidden_size,\n",
    "                                      device=device)\n",
    "\n",
    "        for ei in range(input_length):\n",
    "            encoder_output, encoder_hidden = encoder(\n",
    "                input_tensor[ei], encoder_hidden)\n",
    "\n",
    "            encoder_outputs[ei] = encoder_output[0, 0]\n",
    "\n",
    "        decoder_input = torch.tensor([[SOS_token]], device=device)\n",
    "\n",
    "        decoder_hidden = encoder_hidden\n",
    "\n",
    "        use_teacher_forcing = True if random.random() < teacher_forcing_ratio else False\n",
    "\n",
    "        if use_teacher_forcing:\n",
    "            for di in range(target_length):\n",
    "                decoder_output, decoder_hidden, decoder_attention = decoder(\n",
    "                    decoder_input, decoder_hidden, encoder_outputs)\n",
    "                loss += prior_z_curr * criterion(decoder_output, target_tensor[di])\n",
    "                decoder_input = target_tensor[di]  # Teacher forcing\n",
    "\n",
    "        else:\n",
    "            # Without teacher forcing: use its own predictions as the next input\n",
    "            for di in range(target_length):\n",
    "                decoder_output, decoder_hidden, decoder_attention = decoder(\n",
    "                    decoder_input, decoder_hidden, encoder_outputs)\n",
    "                topv, topi = decoder_output.topk(1)\n",
    "                decoder_input = topi.squeeze().detach()  # detach from history as input\n",
    "\n",
    "                loss += prior_z_curr * criterion(decoder_output, target_tensor[di])\n",
    "                if decoder_input.item() == EOS_token:\n",
    "                    break\n",
    "\n",
    "    loss.backward()\n",
    "\n",
    "    encoder_optimizer.step()\n",
    "    decoder_optimizer.step()\n",
    "\n",
    "    return loss.item() / target_length\n"
   ]
  },
  {
   "cell_type": "code",
   "execution_count": 119,
   "metadata": {},
   "outputs": [],
   "source": [
    "import time\n",
    "import math\n",
    "\n",
    "\n",
    "def asMinutes(s):\n",
    "    m = math.floor(s / 60)\n",
    "    s -= m * 60\n",
    "    return '%dm %ds' % (m, s)\n",
    "\n",
    "\n",
    "def timeSince(since, percent):\n",
    "    now = time.time()\n",
    "    s = now - since\n",
    "    es = s / (percent)\n",
    "    rs = es - s\n",
    "    return '%s (- %s)' % (asMinutes(s), asMinutes(rs))"
   ]
  },
  {
   "cell_type": "code",
   "execution_count": 120,
   "metadata": {},
   "outputs": [],
   "source": [
    "def trainIters(encoder, decoder, n_iters, total_patients, print_every=1000, plot_every=100, learning_rate=0.01):\n",
    "    start = time.time()\n",
    "    plot_losses = []\n",
    "    print_loss_total = 0  # Reset every print_every\n",
    "    plot_loss_total = 0  # Reset every plot_every\n",
    "\n",
    "    encoder_optimizer = optim.SGD(encoder.parameters(), lr=learning_rate)\n",
    "    decoder_optimizer = optim.SGD(decoder.parameters(), lr=learning_rate)\n",
    "    training_inx = r2python.sample_int(total_patients, size=n_iters, replace=True)\n",
    "#     training_pairs = [tensorsFromPair(random.choice(pairs))\n",
    "#                       for i in range(n_iters)]\n",
    "    criterion = nn.NLLLoss()\n",
    "\n",
    "    for iter in range(1, n_iters + 1):\n",
    "        inx_curr = training_inx[iter -1]\n",
    "        input_tensor_list = epitope_patient_list['trainData'][inx_curr]\n",
    "#         print(len(input_tensor_list))\n",
    "#         print(input_tensor_list[0])\n",
    "        target_tensor = df_cdr3['kmer.tensor'][inx_curr]\n",
    "        prior_z = [0.5, 0.5/len(input_tensor_list)]  # prior of NULL distribution, uniform prior \n",
    "\n",
    "        loss = train_set(input_tensor_list, target_tensor, epitope_null, prior_z, encoder,\n",
    "                     decoder, encoder_optimizer, decoder_optimizer, criterion)\n",
    "        print_loss_total += loss\n",
    "        plot_loss_total += loss\n",
    "\n",
    "        if iter % print_every == 0:\n",
    "            print_loss_avg = print_loss_total / print_every\n",
    "            print_loss_total = 0\n",
    "            print('%s (%d %d%%) %.4f' % (timeSince(start, iter / n_iters),\n",
    "                                         iter, iter / n_iters * 100, print_loss_avg))\n",
    "\n",
    "        if iter % plot_every == 0:\n",
    "            plot_loss_avg = plot_loss_total / plot_every\n",
    "            plot_losses.append(plot_loss_avg)\n",
    "            plot_loss_total = 0\n",
    "\n",
    "    showPlot(plot_losses)"
   ]
  },
  {
   "cell_type": "code",
   "execution_count": 170,
   "metadata": {},
   "outputs": [],
   "source": [
    "import matplotlib.pyplot as plt\n",
    "plt.switch_backend('agg')\n",
    "import matplotlib.ticker as ticker\n",
    "import numpy as np\n",
    "\n",
    "\n",
    "def showPlot(points):\n",
    "    plt.figure()\n",
    "    fig, ax = plt.subplots()\n",
    "    # this locator puts ticks at regular intervals\n",
    "    loc = ticker.MultipleLocator(base=0.2)\n",
    "    ax.yaxis.set_major_locator(loc)\n",
    "    plt.plot(points)"
   ]
  },
  {
   "cell_type": "markdown",
   "metadata": {},
   "source": [
    "## Evaluation"
   ]
  },
  {
   "cell_type": "code",
   "execution_count": 171,
   "metadata": {},
   "outputs": [],
   "source": [
    "def evaluate(encoder, decoder, sentence, max_length=MAX_LENGTH):\n",
    "    with torch.no_grad():\n",
    "#         print(sentence)\n",
    "        input_tensor = tensorFromSentence(cdr3b_lang, sentence)\n",
    "        input_length = input_tensor.size()[0]\n",
    "        encoder_hidden = encoder.initHidden()\n",
    "\n",
    "        encoder_outputs = torch.zeros(max_length, encoder.hidden_size, device=device)\n",
    "\n",
    "        for ei in range(input_length):\n",
    "            encoder_output, encoder_hidden = encoder(input_tensor[ei],\n",
    "                                                     encoder_hidden)\n",
    "            encoder_outputs[ei] += encoder_output[0, 0]\n",
    "\n",
    "        decoder_input = torch.tensor([[SOS_token]], device=device)  # SOS\n",
    "\n",
    "        decoder_hidden = encoder_hidden\n",
    "\n",
    "        decoded_words = []\n",
    "        decoder_attentions = torch.zeros(max_length, max_length)\n",
    "\n",
    "        for di in range(max_length):\n",
    "            decoder_output, decoder_hidden, decoder_attention = decoder(\n",
    "                decoder_input, decoder_hidden, encoder_outputs)\n",
    "            decoder_attentions[di] = decoder_attention.data\n",
    "            topv, topi = decoder_output.data.topk(1)\n",
    "            if topi.item() == EOS_token:\n",
    "                decoded_words.append('<EOS>')\n",
    "                break\n",
    "            else:\n",
    "                decoded_words.append(epitope_lang.index2word[topi.item()])\n",
    "\n",
    "            decoder_input = topi.squeeze().detach()\n",
    "\n",
    "        return decoded_words, decoder_attentions[:di + 1]"
   ]
  },
  {
   "cell_type": "code",
   "execution_count": 172,
   "metadata": {},
   "outputs": [],
   "source": [
    "def evaluateRandomly(encoder, decoder, total_patients = 3, n=10, ):\n",
    "    for i in range(n):\n",
    "#         pair = random.choice(pairs)\n",
    "        \n",
    "        training_inx = r2python.sample_int(total_patients, size=1, replace=True)\n",
    "#         print(training_inx)\n",
    "#         print(type(training_inx))\n",
    "\n",
    "        inx_curr = training_inx[0]\n",
    "        epitope_curr = df_epitope['kmer.sentence'][inx_curr]\n",
    "        cdr3b_curr = df_cdr3['kmer.sentence'][inx_curr]\n",
    "        \n",
    "        print('>', cdr3b_curr)\n",
    "        print('=', epitope_curr)\n",
    "        output_words, attentions = evaluate(encoder, decoder, cdr3b_curr)\n",
    "        output_sentence = ' '.join(output_words)\n",
    "        print('<', output_sentence)\n",
    "        print('')"
   ]
  },
  {
   "cell_type": "markdown",
   "metadata": {},
   "source": [
    "## TRAINING AND EVALUATING"
   ]
  },
  {
   "cell_type": "code",
   "execution_count": 173,
   "metadata": {},
   "outputs": [
    {
     "name": "stdout",
     "output_type": "stream",
     "text": [
      "0m 54s (- 2m 42s) (1 25%) 8.0369\n",
      "1m 24s (- 1m 24s) (2 50%) 2.7497\n",
      "1m 59s (- 0m 39s) (3 75%) 2.1054\n",
      "2m 12s (- 0m 0s) (4 100%) 6.1637\n"
     ]
    },
    {
     "data": {
      "text/plain": [
       "<Figure size 432x288 with 0 Axes>"
      ]
     },
     "metadata": {},
     "output_type": "display_data"
    },
    {
     "data": {
      "image/png": "[encoded data removed]",
      "text/plain": [
       "<Figure size 432x288 with 1 Axes>"
      ]
     },
     "metadata": {},
     "output_type": "display_data"
    }
   ],
   "source": [
    "hidden_size = 256\n",
    "encoder1 = EncoderRNN(epitope_lang.n_words, hidden_size).to(device)\n",
    "attn_decoder1 = AttnDecoderRNN(hidden_size, cdr3b_lang.n_words, dropout_p=0.1).to(device)\n",
    "total_patients = 3\n",
    "trainIters(encoder1, attn_decoder1, n_iters=4, total_patients=total_patients, print_every=1)"
   ]
  },
  {
   "cell_type": "code",
   "execution_count": 166,
   "metadata": {},
   "outputs": [
    {
     "name": "stdout",
     "output_type": "stream",
     "text": [
      "> ^^^^C ^^^CS ^^CSA ^CSAE CSAEQ SAEQG AEQGA EQGAV QGAVT GAVTG AVTGE VTGEL TGELF\n",
      "= ^^^^Y ^^^YS ^^YST ^YSTK YSTKH STKHS TKHSK KHSKL HSKLY SKLY$ KLY$$ LY$$$ Y$$$$\n",
      "< <EOS>\n",
      "\n",
      "> ^^^^C ^^^CA ^^CAS ^CASS CASSL ASSLF SSLFP SLFPL LFPLA FPLAD PLADE LADEQ ADEQF\n",
      "= ^^^^S ^^^ST ^^STK ^STKH STKHS TKHSK KHSKL HSKLY SKLYI KLYI$ LYI$$ YI$$$ I$$$$\n",
      "< <EOS>\n",
      "\n",
      "> ^^^^C ^^^CA ^^CAS ^CASS CASST ASSTD SSTDR STDRA TDRAY DRAYE RAYEQ AYEQY YEQYF\n",
      "= ^^^^L ^^^LY ^^LYS ^LYST LYSTK YSTKH STKHS TKHSK KHSKL HSKL$ SKL$$ KL$$$ L$$$$\n",
      "< <EOS>\n",
      "\n",
      "> ^^^^C ^^^CA ^^CAS ^CASS CASST ASSTD SSTDR STDRA TDRAY DRAYE RAYEQ AYEQY YEQYF\n",
      "= ^^^^L ^^^LY ^^LYS ^LYST LYSTK YSTKH STKHS TKHSK KHSKL HSKL$ SKL$$ KL$$$ L$$$$\n",
      "< <EOS>\n",
      "\n",
      "> ^^^^C ^^^CA ^^CAS ^CASS CASST ASSTD SSTDR STDRA TDRAY DRAYE RAYEQ AYEQY YEQYF\n",
      "= ^^^^L ^^^LY ^^LYS ^LYST LYSTK YSTKH STKHS TKHSK KHSKL HSKL$ SKL$$ KL$$$ L$$$$\n",
      "< <EOS>\n",
      "\n",
      "> ^^^^C ^^^CA ^^CAS ^CASS CASSL ASSLF SSLFP SLFPL LFPLA FPLAD PLADE LADEQ ADEQF\n",
      "= ^^^^S ^^^ST ^^STK ^STKH STKHS TKHSK KHSKL HSKLY SKLYI KLYI$ LYI$$ YI$$$ I$$$$\n",
      "< <EOS>\n",
      "\n",
      "> ^^^^C ^^^CA ^^CAS ^CASS CASST ASSTD SSTDR STDRA TDRAY DRAYE RAYEQ AYEQY YEQYF\n",
      "= ^^^^L ^^^LY ^^LYS ^LYST LYSTK YSTKH STKHS TKHSK KHSKL HSKL$ SKL$$ KL$$$ L$$$$\n",
      "< <EOS>\n",
      "\n",
      "> ^^^^C ^^^CA ^^CAS ^CASS CASST ASSTD SSTDR STDRA TDRAY DRAYE RAYEQ AYEQY YEQYF\n",
      "= ^^^^L ^^^LY ^^LYS ^LYST LYSTK YSTKH STKHS TKHSK KHSKL HSKL$ SKL$$ KL$$$ L$$$$\n",
      "< <EOS>\n",
      "\n",
      "> ^^^^C ^^^CS ^^CSA ^CSAE CSAEQ SAEQG AEQGA EQGAV QGAVT GAVTG AVTGE VTGEL TGELF\n",
      "= ^^^^Y ^^^YS ^^YST ^YSTK YSTKH STKHS TKHSK KHSKL HSKLY SKLY$ KLY$$ LY$$$ Y$$$$\n",
      "< <EOS>\n",
      "\n",
      "> ^^^^C ^^^CA ^^CAS ^CASS CASSL ASSLF SSLFP SLFPL LFPLA FPLAD PLADE LADEQ ADEQF\n",
      "= ^^^^S ^^^ST ^^STK ^STKH STKHS TKHSK KHSKL HSKLY SKLYI KLYI$ LYI$$ YI$$$ I$$$$\n",
      "< <EOS>\n",
      "\n"
     ]
    }
   ],
   "source": [
    "evaluateRandomly(encoder1, attn_decoder1)"
   ]
  },
  {
   "cell_type": "code",
   "execution_count": 167,
   "metadata": {},
   "outputs": [
    {
     "data": {
      "text/plain": [
       "<matplotlib.image.AxesImage at 0x10dd9acc0>"
      ]
     },
     "execution_count": 167,
     "metadata": {},
     "output_type": "execute_result"
    },
    {
     "data": {
      "image/png": "[encoded data removed]",
      "text/plain": [
       "<Figure size 1152x144 with 1 Axes>"
      ]
     },
     "metadata": {},
     "output_type": "display_data"
    }
   ],
   "source": [
    "%matplotlib inline\n",
    "output_words, attentions = evaluate(\n",
    "    encoder1, attn_decoder1, \"^^^^C ^^^CA ^^CAS ^CASS CASSL ASSLF SSLFP SLFPL LFPLA FPLAD PLADE LADEQ ADEQF\")\n",
    "plt.matshow(attentions.numpy())"
   ]
  },
  {
   "cell_type": "code",
   "execution_count": 169,
   "metadata": {},
   "outputs": [
    {
     "name": "stdout",
     "output_type": "stream",
     "text": [
      "input = ^^^^C ^^^CS ^^CSA ^CSAE CSAEQ SAEQG AEQGA EQGAV QGAVT GAVTG AVTGE VTGEL TGELF\n",
      "output = <EOS>\n"
     ]
    },
    {
     "data": {
      "image/png": "[encoded data removed]",
      "text/plain": [
       "<Figure size 432x288 with 2 Axes>"
      ]
     },
     "metadata": {},
     "output_type": "display_data"
    }
   ],
   "source": [
    "def showAttention(input_sentence, output_words, attentions):\n",
    "    # Set up figure with colorbar\n",
    "    fig = plt.figure()\n",
    "    ax = fig.add_subplot(111)\n",
    "    cax = ax.matshow(attentions.numpy(), cmap='bone')\n",
    "    fig.colorbar(cax)\n",
    "\n",
    "    # Set up axes\n",
    "    ax.set_xticklabels([''] + input_sentence.split(' ') +\n",
    "                       ['<EOS>'], rotation=90)\n",
    "    ax.set_yticklabels([''] + output_words)\n",
    "\n",
    "    # Show label at every tick\n",
    "    ax.xaxis.set_major_locator(ticker.MultipleLocator(1))\n",
    "    ax.yaxis.set_major_locator(ticker.MultipleLocator(1))\n",
    "\n",
    "    plt.show()\n",
    "\n",
    "\n",
    "def evaluateAndShowAttention(input_sentence):\n",
    "    output_words, attentions = evaluate(\n",
    "        encoder1, attn_decoder1, input_sentence)\n",
    "    print('input =', input_sentence)\n",
    "    print('output =', ' '.join(output_words))\n",
    "    showAttention(input_sentence, output_words, attentions)\n",
    "\n",
    "\n",
    "evaluateAndShowAttention(\"^^^^C ^^^CS ^^CSA ^CSAE CSAEQ SAEQG AEQGA EQGAV QGAVT GAVTG AVTGE VTGEL TGELF\")\n",
    "\n",
    "# evaluateAndShowAttention(\"elle est trop petit .\")\n",
    "\n",
    "# evaluateAndShowAttention(\"je ne crains pas de mourir .\")\n",
    "\n",
    "# evaluateAndShowAttention(\"c est un jeune directeur plein de talent .\")\n"
   ]
  },
  {
   "cell_type": "markdown",
   "metadata": {},
   "source": [
    "We will create a kmer from CDR3 and antigen, with stride =1. The line will end with \".\"."
   ]
  }
 ],
 "metadata": {
  "kernelspec": {
   "display_name": "Python 3",
   "language": "python",
   "name": "python3"
  },
  "language_info": {
   "codemirror_mode": {
    "name": "ipython",
    "version": 3
   },
   "file_extension": ".py",
   "mimetype": "text/x-python",
   "name": "python",
   "nbconvert_exporter": "python",
   "pygments_lexer": "ipython3",
   "version": "3.6.4"
  }
 },
 "nbformat": 4,
 "nbformat_minor": 2
}
